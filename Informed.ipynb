{
  "nbformat": 4,
  "nbformat_minor": 0,
  "metadata": {
    "colab": {
      "name": "Informed.ipynb",
      "provenance": [],
      "include_colab_link": true
    },
    "kernelspec": {
      "display_name": "Python 3",
      "language": "python",
      "name": "python3"
    }
  },
  "cells": [
    {
      "cell_type": "markdown",
      "metadata": {
        "id": "view-in-github",
        "colab_type": "text"
      },
      "source": [
        "<a href=\"https://colab.research.google.com/github/icekang/informed-search-ai/blob/master/Informed.ipynb\" target=\"_parent\"><img src=\"https://colab.research.google.com/assets/colab-badge.svg\" alt=\"Open In Colab\"/></a>"
      ]
    },
    {
      "cell_type": "markdown",
      "metadata": {
        "id": "yJsyS6_pjF8v",
        "colab_type": "text"
      },
      "source": [
        "A Star 8 Puzzles"
      ]
    },
    {
      "cell_type": "code",
      "metadata": {
        "id": "LuuXryBmP9Vr",
        "colab_type": "code",
        "colab": {
          "base_uri": "https://localhost:8080/",
          "height": 867
        },
        "outputId": "0708ff01-fa76-4dbf-e5a0-91c399f10f4e"
      },
      "source": [
        "last_index = 0\n",
        "visited_node = {}\n",
        "goal_state = '8123456780'\n",
        "total_nodes = 0 \n",
        "\n",
        "def h1(state,cost): # misplaced tile\n",
        "  count = 0\n",
        "  for i in range(1,10):\n",
        "    if state[i] == '0':\n",
        "      continue\n",
        "    if state[i] != goal_state[i]:\n",
        "      count += 1\n",
        "  return count+cost\n",
        "\n",
        "def manhattan(state,goal,ind):  \n",
        "  j = goal[1:].find(state[ind+1])\n",
        "  rj = j//3\n",
        "  cj = j%3\n",
        "  ri = ind//3\n",
        "  ci = ind%3\n",
        "    # print(j,rj,cj,(i-1),ri,ci)\n",
        "  return abs(rj-ri)+abs(cj-ci)\n",
        "\n",
        "def h2(state,cost): # total Manhattan distance\n",
        "  count = 0\n",
        "  for i in range(1,10):\n",
        "    if state[i] == '0':\n",
        "      continue\n",
        "    count += manhattan(state,goal_state,i-1)\n",
        "  return count+cost  \n",
        "\n",
        "def gen_successors(node):\n",
        "    global last_index\n",
        "    node_id,level,cost,f = node[1],node[3],node[4],node[5]\n",
        "    ret = []\n",
        "    state = node[0]\n",
        "    loc = int(state[0])\n",
        "    puzzle = state[1:]\n",
        "    if loc % 3 != 0:\n",
        "        new_state = str(loc-1) + puzzle[:loc-1] + puzzle[loc] + puzzle[loc-1] + puzzle[loc+1:]\n",
        "        ret += [(new_state,last_index+1,node[1],level+1,cost+1,h2(new_state,cost+1))]\n",
        "        last_index += 1\n",
        "        # print('L'+new_state)\n",
        "    if (loc+1) % 3 != 0:\n",
        "        new_state = str(loc+1) + puzzle[:loc] + puzzle[loc+1] + puzzle[loc] + puzzle[loc+2:]\n",
        "        ret += [(new_state,last_index+1,node[1],level+1,cost+1,h2(new_state,cost+1))]\n",
        "        last_index += 1\n",
        "        # print('R'+new_state)\n",
        "    if loc >= 3:\n",
        "        new_state = str(loc-3) + puzzle[:loc-3] + puzzle[loc] + puzzle[loc-2:loc] + puzzle[loc-3] + puzzle[loc+1:]\n",
        "        ret += [(new_state,last_index+1,node[1],level+1,cost+1,h2(new_state,cost+1))]\n",
        "        last_index += 1\n",
        "        # print('U'+new_state)\n",
        "    if loc <= 5:\n",
        "        new_state = str(loc+3) + puzzle[:loc] + puzzle[loc+3] + puzzle[loc+1:loc+3] + puzzle[loc] + puzzle[loc+4:]\n",
        "        ret += [(new_state,last_index+1,node[1],level+1,cost+1,h2(new_state,cost+1))]\n",
        "        last_index += 1\n",
        "        # print('D'+new_state)\n",
        "    return ret\n",
        "    \n",
        "def is_goal(node):\n",
        "    return node[0] == '8123456780'\n",
        "\n",
        "def insert_all(node,fringe):\n",
        "    global total_nodes\n",
        "    children = gen_successors(node)\n",
        "    total_nodes += len(children)\n",
        "    for child in children:\n",
        "      inserted = False\n",
        "      for j in range(len(fringe)):\n",
        "        if child[5] < fringe[j][5]:\n",
        "          fringe[j:j] = [child]\n",
        "          inserted = True\n",
        "          break\n",
        "      if not inserted:\n",
        "        fringe.append(child)\n",
        "    # print(fringe)\n",
        "\n",
        "def show_result(g,visited_node):\n",
        "    current_node = g\n",
        "    parent_index = current_node[1]\n",
        "    while True:\n",
        "        print(current_node[0][1:4])\n",
        "        print(current_node[0][4:7])\n",
        "        print(current_node[0][7:])\n",
        "        print()\n",
        "        parent_index = current_node[2]\n",
        "        if parent_index == -1:\n",
        "            break\n",
        "        current_node = visited_node[parent_index]\n",
        "    \n",
        "def a_star(start_node):\n",
        "    global last_index\n",
        "    global visited_node \n",
        "    \n",
        "    last_index = 0\n",
        "    fringe = [start_node]\n",
        "    # print(fringe)\n",
        "    visited_node = {}\n",
        "    while True:\n",
        "        if len(fringe) == 0:\n",
        "            print('Not Found')\n",
        "            break\n",
        "        front = fringe[0]\n",
        "        visited_node[front[1]] = front\n",
        "        fringe = fringe[1:]\n",
        "        if is_goal(front):\n",
        "            show_result(front,visited_node)\n",
        "            return\n",
        "        insert_all(front,fringe)\n",
        "\n",
        "a_star(('1501283764',0,-1,0,0,0)) # (state,node_id,parent_id,depth,cost,f)\n",
        "print(total_nodes)      \n",
        "\n",
        "\n",
        "\n"
      ],
      "execution_count": null,
      "outputs": [
        {
          "output_type": "stream",
          "text": [
            "123\n",
            "456\n",
            "780\n",
            "\n",
            "123\n",
            "450\n",
            "786\n",
            "\n",
            "123\n",
            "405\n",
            "786\n",
            "\n",
            "103\n",
            "425\n",
            "786\n",
            "\n",
            "013\n",
            "425\n",
            "786\n",
            "\n",
            "413\n",
            "025\n",
            "786\n",
            "\n",
            "413\n",
            "205\n",
            "786\n",
            "\n",
            "413\n",
            "285\n",
            "706\n",
            "\n",
            "413\n",
            "285\n",
            "760\n",
            "\n",
            "413\n",
            "280\n",
            "765\n",
            "\n",
            "410\n",
            "283\n",
            "765\n",
            "\n",
            "401\n",
            "283\n",
            "765\n",
            "\n",
            "37\n"
          ],
          "name": "stdout"
        }
      ]
    },
    {
      "cell_type": "code",
      "metadata": {
        "id": "LUOmfJjvMwRK",
        "colab_type": "code",
        "colab": {
          "base_uri": "https://localhost:8080/",
          "height": 35
        },
        "outputId": "fde61fee-8392-485a-d7a0-d512887df5a2"
      },
      "source": [
        "import random\n",
        "\n",
        "def gen_start(state,step):\n",
        "  for i in range(step):\n",
        "    loc0 = int(state[0])\n",
        "    dir = random.randint(0,3)\n",
        "    if dir == 0 and loc0 >= 3:\n",
        "      new_loc0 = loc0 - 3\n",
        "    elif dir == 1 and loc0 <= 5:\n",
        "      new_loc0 = loc0 + 3\n",
        "    elif dir == 2 and loc0%3 != 0:\n",
        "      new_loc0 = loc0 - 1\n",
        "    elif dir == 3 and (loc0+1)%3 != 0:\n",
        "      new_loc0 = loc0 + 1\n",
        "    else:\n",
        "      new_loc0 = loc0\n",
        "    newstate = list(state[1:])\n",
        "    newstate[loc0],newstate[new_loc0] = newstate[new_loc0],newstate[loc0]\n",
        "    newstate = str(new_loc0)+''.join(newstate)\n",
        "    state = newstate\n",
        "  return newstate\n",
        "\n",
        "gen_start(goal_state,50)"
      ],
      "execution_count": null,
      "outputs": [
        {
          "output_type": "execute_result",
          "data": {
            "text/plain": [
              "'1401283765'"
            ]
          },
          "metadata": {
            "tags": []
          },
          "execution_count": 9
        }
      ]
    }
  ]
}